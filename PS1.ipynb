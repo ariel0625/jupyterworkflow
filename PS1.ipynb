{
 "cells": [
  {
   "cell_type": "markdown",
   "metadata": {},
   "source": [
    "Part 1: Creating helper functions"
   ]
  },
  {
   "cell_type": "code",
   "execution_count": 486,
   "metadata": {},
   "outputs": [],
   "source": [
    "import numpy as np\n",
    "import pandas as pd"
   ]
  },
  {
   "cell_type": "markdown",
   "metadata": {},
   "source": [
    "1. Create a helper function to calculate Gini impurity called “calcGini”. This function should take in two values which represent a count of each class (we can assume only two classes for this problem set) and output the Gini impurity. For example, if you were to pass in 2 of the same number for the counts of classes (let’s say 5 and 5), the calculated Gini impurity should be 0.5."
   ]
  },
  {
   "cell_type": "code",
   "execution_count": null,
   "metadata": {},
   "outputs": [],
   "source": [
    "def calcGini(a,b):\n",
    "    p1 = (a/(a+b))\n",
    "    p2 = 1.0 - p1\n",
    "    return 1-(np.square(p1))-(np.square(p2))"
   ]
  },
  {
   "cell_type": "code",
   "execution_count": 488,
   "metadata": {
    "scrolled": true
   },
   "outputs": [
    {
     "data": {
      "text/plain": [
       "0.5"
      ]
     },
     "execution_count": 488,
     "metadata": {},
     "output_type": "execute_result"
    }
   ],
   "source": [
    "calcGini(8,8)"
   ]
  },
  {
   "cell_type": "markdown",
   "metadata": {},
   "source": [
    "2. Create a helper function to calculate entropy called “calcEntropy”. This function should take in two values which represent a count of each class (we can assume only two classes for this problem set) and output the entropy. (Note: be sure the function appropriately accounts for zero values) For example, if you were to pass in 2 of the same number for the counts of classes (let’s say 5 and 5), the calculated entropy should be 1.0."
   ]
  },
  {
   "cell_type": "code",
   "execution_count": 489,
   "metadata": {},
   "outputs": [],
   "source": [
    "def calcEntropy(a,b):\n",
    "    p1 = (a/(a+b))\n",
    "    p2 = 1.0 - p1\n",
    "    vals = np.array([p1,p2])\n",
    "    logs = np.log2(vals)\n",
    "    logs[logs == -np.inf] = 0 \n",
    "    e = np.sum(-1*(vals * logs))\n",
    "    #np.log2()\n",
    "    print(logs)\n",
    "    return e"
   ]
  },
  {
   "cell_type": "code",
   "execution_count": 490,
   "metadata": {},
   "outputs": [
    {
     "name": "stdout",
     "output_type": "stream",
     "text": [
      "[-1. -1.]\n"
     ]
    },
    {
     "data": {
      "text/plain": [
       "1.0"
      ]
     },
     "execution_count": 490,
     "metadata": {},
     "output_type": "execute_result"
    }
   ],
   "source": [
    "calcEntropy(5,5)"
   ]
  },
  {
   "cell_type": "markdown",
   "metadata": {},
   "source": [
    "3. Create a helper function to calculate weighted sums called “weightedSums”. This function should take in two lists - one of values and one of weights/counts - and should output the weighted average of the values as weighted by weights/counts. For example, if you pass in a list that contains [1, 2, 3, 4] as the values and a list that contains [4, 3, 2, 1] as the weights, the weighted average should be 2.0."
   ]
  },
  {
   "cell_type": "code",
   "execution_count": 329,
   "metadata": {},
   "outputs": [],
   "source": [
    "def weightedSum(values, weights):\n",
    "    return np.average(values, weights = weights)"
   ]
  },
  {
   "cell_type": "code",
   "execution_count": 330,
   "metadata": {},
   "outputs": [
    {
     "data": {
      "text/plain": [
       "2.0"
      ]
     },
     "execution_count": 330,
     "metadata": {},
     "output_type": "execute_result"
    }
   ],
   "source": [
    "vals = [1,2,3,4]\n",
    "ws = [4,3,2,1]\n",
    "weightedSum(vals,ws)"
   ]
  },
  {
   "cell_type": "markdown",
   "metadata": {},
   "source": [
    "4. Verify that your functions are working as expected. Use the same dataset/calculations from lecture and calculate the Gini impurity and entropy for each column. The data can be found in the toyData.csv file. Use this to verify that your functions work as expected."
   ]
  },
  {
   "cell_type": "code",
   "execution_count": 343,
   "metadata": {
    "scrolled": true
   },
   "outputs": [
    {
     "data": {
      "text/html": [
       "<div>\n",
       "<style scoped>\n",
       "    .dataframe tbody tr th:only-of-type {\n",
       "        vertical-align: middle;\n",
       "    }\n",
       "\n",
       "    .dataframe tbody tr th {\n",
       "        vertical-align: top;\n",
       "    }\n",
       "\n",
       "    .dataframe thead th {\n",
       "        text-align: right;\n",
       "    }\n",
       "</style>\n",
       "<table border=\"1\" class=\"dataframe\">\n",
       "  <thead>\n",
       "    <tr style=\"text-align: right;\">\n",
       "      <th></th>\n",
       "      <th>Variable A</th>\n",
       "      <th>Variable B</th>\n",
       "      <th>Variable C</th>\n",
       "      <th>Output</th>\n",
       "    </tr>\n",
       "  </thead>\n",
       "  <tbody>\n",
       "    <tr>\n",
       "      <th>0</th>\n",
       "      <td>Yes</td>\n",
       "      <td>On</td>\n",
       "      <td>High</td>\n",
       "      <td>Red</td>\n",
       "    </tr>\n",
       "    <tr>\n",
       "      <th>1</th>\n",
       "      <td>No</td>\n",
       "      <td>Off</td>\n",
       "      <td>Low</td>\n",
       "      <td>Blue</td>\n",
       "    </tr>\n",
       "    <tr>\n",
       "      <th>2</th>\n",
       "      <td>Yes</td>\n",
       "      <td>On</td>\n",
       "      <td>High</td>\n",
       "      <td>Red</td>\n",
       "    </tr>\n",
       "    <tr>\n",
       "      <th>3</th>\n",
       "      <td>Yes</td>\n",
       "      <td>Off</td>\n",
       "      <td>High</td>\n",
       "      <td>Red</td>\n",
       "    </tr>\n",
       "    <tr>\n",
       "      <th>4</th>\n",
       "      <td>No</td>\n",
       "      <td>On</td>\n",
       "      <td>High</td>\n",
       "      <td>Blue</td>\n",
       "    </tr>\n",
       "    <tr>\n",
       "      <th>5</th>\n",
       "      <td>Yes</td>\n",
       "      <td>On</td>\n",
       "      <td>Low</td>\n",
       "      <td>Blue</td>\n",
       "    </tr>\n",
       "    <tr>\n",
       "      <th>6</th>\n",
       "      <td>No</td>\n",
       "      <td>Off</td>\n",
       "      <td>High</td>\n",
       "      <td>Blue</td>\n",
       "    </tr>\n",
       "    <tr>\n",
       "      <th>7</th>\n",
       "      <td>No</td>\n",
       "      <td>On</td>\n",
       "      <td>High</td>\n",
       "      <td>Blue</td>\n",
       "    </tr>\n",
       "    <tr>\n",
       "      <th>8</th>\n",
       "      <td>Yes</td>\n",
       "      <td>On</td>\n",
       "      <td>Low</td>\n",
       "      <td>Blue</td>\n",
       "    </tr>\n",
       "    <tr>\n",
       "      <th>9</th>\n",
       "      <td>Yes</td>\n",
       "      <td>Off</td>\n",
       "      <td>High</td>\n",
       "      <td>Red</td>\n",
       "    </tr>\n",
       "  </tbody>\n",
       "</table>\n",
       "</div>"
      ],
      "text/plain": [
       "  Variable A Variable B Variable C Output\n",
       "0        Yes         On       High    Red\n",
       "1         No        Off        Low   Blue\n",
       "2        Yes         On       High    Red\n",
       "3        Yes        Off       High    Red\n",
       "4         No         On       High   Blue\n",
       "5        Yes         On        Low   Blue\n",
       "6         No        Off       High   Blue\n",
       "7         No         On       High   Blue\n",
       "8        Yes         On        Low   Blue\n",
       "9        Yes        Off       High    Red"
      ]
     },
     "execution_count": 343,
     "metadata": {},
     "output_type": "execute_result"
    }
   ],
   "source": [
    "toyData = pd.read_csv('/Users/leechenhsin/Desktop/Study@USA/07_UW_School/IMT575/toyData.csv')\n",
    "toyData"
   ]
  },
  {
   "cell_type": "code",
   "execution_count": 397,
   "metadata": {},
   "outputs": [],
   "source": [
    "variable_A=toyData.loc[:,\"Variable A\"]\n",
    "variable_B=toyData.loc[:,\"Variable B\"]\n",
    "variable_C=toyData.loc[:,\"Variable C\"]\n",
    "label=toyData.loc[:,\"Output\"]"
   ]
  },
  {
   "cell_type": "code",
   "execution_count": 398,
   "metadata": {},
   "outputs": [],
   "source": [
    "YesR, YesB, NoR, NoB=0,0,0,0\n",
    "OnR, OnB, OffR, OffB=0,0,0,0\n",
    "HR, HB, LR, LB=0,0,0,0"
   ]
  },
  {
   "cell_type": "code",
   "execution_count": 399,
   "metadata": {},
   "outputs": [],
   "source": [
    "for i in range(len(toyData)):\n",
    "    val, output = toyData.iloc[i,0], toyData.iloc[i,3]\n",
    "    if val == 'Yes' and output == 'Red':\n",
    "        YesR +=1\n",
    "    elif val == 'Yes' and output == 'Blue':\n",
    "        YesB +=1\n",
    "    elif val == 'No' and output == 'Red':\n",
    "        NoR +=1\n",
    "    else:\n",
    "        NoB +=1"
   ]
  },
  {
   "cell_type": "code",
   "execution_count": 400,
   "metadata": {},
   "outputs": [],
   "source": [
    "for i in range(len(toyData)):\n",
    "    val, output = toyData.iloc[i,1], toyData.iloc[i,3]\n",
    "    if val == 'On' and output == 'Red':\n",
    "        OnR +=1\n",
    "    elif val == 'On' and output == 'Blue':\n",
    "        OnB +=1\n",
    "    elif val == 'Off' and output == 'Red':\n",
    "        OffR +=1\n",
    "    else:\n",
    "        OffB +=1"
   ]
  },
  {
   "cell_type": "code",
   "execution_count": 401,
   "metadata": {},
   "outputs": [],
   "source": [
    "for i in range(len(toyData)):\n",
    "    val, output = toyData.iloc[i,2], toyData.iloc[i,3]\n",
    "    if val == 'High' and output == 'Red':\n",
    "        HR +=1\n",
    "    elif val == 'High' and output == 'Blue':\n",
    "        HB +=1\n",
    "    elif val == 'Low' and output == 'Red':\n",
    "        LR +=1\n",
    "    else:\n",
    "        LB +=1"
   ]
  },
  {
   "cell_type": "code",
   "execution_count": 402,
   "metadata": {},
   "outputs": [],
   "source": [
    "def total_gini_entropy(num_1,num_2,num_3,num_4):\n",
    "    gini=((num_1+num_2)/10)*calcGini(num_1,num_2)+((num_3+num_4)/10)*calcGini(num_3,num_4)\n",
    "    entropy=((num_1+num_2)/10)*calcEntropy(num_1,num_2)+((num_3+num_4)/10)*calcEntropy(num_3,num_4)\n",
    "    return gini,entropy"
   ]
  },
  {
   "cell_type": "code",
   "execution_count": 403,
   "metadata": {
    "scrolled": true
   },
   "outputs": [
    {
     "name": "stdout",
     "output_type": "stream",
     "text": [
      "[-0.5849625 -1.5849625]\n",
      "[0. 0.]\n",
      "[-1.5849625 -0.5849625]\n",
      "[-1. -1.]\n",
      "[-0.80735492 -1.22239242]\n",
      "[0. 0.]\n"
     ]
    },
    {
     "name": "stderr",
     "output_type": "stream",
     "text": [
      "<ipython-input-327-45bb5bb0dcfc>:5: RuntimeWarning: divide by zero encountered in log2\n",
      "  logs = np.log2(vals)\n"
     ]
    }
   ],
   "source": [
    "output_A=total_gini_entropy(YesR,YesB,NoR,NoB)\n",
    "output_B=total_gini_entropy(OnR,OnB,OffR,OffB)\n",
    "output_C=total_gini_entropy(HR,HB,LR,LB)\n"
   ]
  },
  {
   "cell_type": "code",
   "execution_count": 404,
   "metadata": {},
   "outputs": [
    {
     "name": "stdout",
     "output_type": "stream",
     "text": [
      "Variable A: Gini is 0.27 Entropy is 0.55\n",
      "Variable B: Gini is 0.47 Entropy is 0.95\n",
      "Variable C: Gini is 0.34 Entropy is 0.69\n"
     ]
    }
   ],
   "source": [
    "print(\"Variable A: Gini is {:.2f} Entropy is {:.2f}\".format(output_A[0],output_A[1]))\n",
    "print(\"Variable B: Gini is {:.2f} Entropy is {:.2f}\".format(output_B[0],output_B[1]))\n",
    "print(\"Variable C: Gini is {:.2f} Entropy is {:.2f}\".format(output_C[0],output_C[1]))"
   ]
  },
  {
   "cell_type": "markdown",
   "metadata": {},
   "source": [
    "Part 2: Building trees"
   ]
  },
  {
   "cell_type": "markdown",
   "metadata": {},
   "source": [
    "5. Import the California housing dataset using sklearn.datasets.\n",
    "What are some interesting characteristics of this variable? Plot the highPriced variable in relation to other variables in the data (using pandas scatter matrix may help).\n",
    "What do you see?"
   ]
  },
  {
   "cell_type": "code",
   "execution_count": 41,
   "metadata": {},
   "outputs": [],
   "source": [
    "from sklearn.datasets import fetch_california_housing\n",
    "import pandas as pd"
   ]
  },
  {
   "cell_type": "code",
   "execution_count": 42,
   "metadata": {},
   "outputs": [
    {
     "name": "stdout",
     "output_type": "stream",
     "text": [
      ".. _california_housing_dataset:\n",
      "\n",
      "California Housing dataset\n",
      "--------------------------\n",
      "\n",
      "**Data Set Characteristics:**\n",
      "\n",
      "    :Number of Instances: 20640\n",
      "\n",
      "    :Number of Attributes: 8 numeric, predictive attributes and the target\n",
      "\n",
      "    :Attribute Information:\n",
      "        - MedInc        median income in block\n",
      "        - HouseAge      median house age in block\n",
      "        - AveRooms      average number of rooms\n",
      "        - AveBedrms     average number of bedrooms\n",
      "        - Population    block population\n",
      "        - AveOccup      average house occupancy\n",
      "        - Latitude      house block latitude\n",
      "        - Longitude     house block longitude\n",
      "\n",
      "    :Missing Attribute Values: None\n",
      "\n",
      "This dataset was obtained from the StatLib repository.\n",
      "http://lib.stat.cmu.edu/datasets/\n",
      "\n",
      "The target variable is the median house value for California districts.\n",
      "\n",
      "This dataset was derived from the 1990 U.S. census, using one row per census\n",
      "block group. A block group is the smallest geographical unit for which the U.S.\n",
      "Census Bureau publishes sample data (a block group typically has a population\n",
      "of 600 to 3,000 people).\n",
      "\n",
      "It can be downloaded/loaded using the\n",
      ":func:`sklearn.datasets.fetch_california_housing` function.\n",
      "\n",
      ".. topic:: References\n",
      "\n",
      "    - Pace, R. Kelley and Ronald Barry, Sparse Spatial Autoregressions,\n",
      "      Statistics and Probability Letters, 33 (1997) 291-297\n",
      "\n"
     ]
    }
   ],
   "source": [
    "california_housing = fetch_california_housing(as_frame=True)\n",
    "print(california_housing.DESCR)"
   ]
  },
  {
   "cell_type": "code",
   "execution_count": 43,
   "metadata": {},
   "outputs": [],
   "source": [
    "california_housing.data.head()\n",
    "df_data = pd.DataFrame(california_housing.data, columns=california_housing.feature_names)"
   ]
  },
  {
   "cell_type": "code",
   "execution_count": 44,
   "metadata": {
    "scrolled": false
   },
   "outputs": [
    {
     "data": {
      "text/html": [
       "<div>\n",
       "<style scoped>\n",
       "    .dataframe tbody tr th:only-of-type {\n",
       "        vertical-align: middle;\n",
       "    }\n",
       "\n",
       "    .dataframe tbody tr th {\n",
       "        vertical-align: top;\n",
       "    }\n",
       "\n",
       "    .dataframe thead th {\n",
       "        text-align: right;\n",
       "    }\n",
       "</style>\n",
       "<table border=\"1\" class=\"dataframe\">\n",
       "  <thead>\n",
       "    <tr style=\"text-align: right;\">\n",
       "      <th></th>\n",
       "      <th>MedInc</th>\n",
       "      <th>HouseAge</th>\n",
       "      <th>AveRooms</th>\n",
       "      <th>AveBedrms</th>\n",
       "      <th>Population</th>\n",
       "      <th>AveOccup</th>\n",
       "      <th>Latitude</th>\n",
       "      <th>Longitude</th>\n",
       "    </tr>\n",
       "  </thead>\n",
       "  <tbody>\n",
       "    <tr>\n",
       "      <th>0</th>\n",
       "      <td>8.3252</td>\n",
       "      <td>41.0</td>\n",
       "      <td>6.984127</td>\n",
       "      <td>1.023810</td>\n",
       "      <td>322.0</td>\n",
       "      <td>2.555556</td>\n",
       "      <td>37.88</td>\n",
       "      <td>-122.23</td>\n",
       "    </tr>\n",
       "    <tr>\n",
       "      <th>1</th>\n",
       "      <td>8.3014</td>\n",
       "      <td>21.0</td>\n",
       "      <td>6.238137</td>\n",
       "      <td>0.971880</td>\n",
       "      <td>2401.0</td>\n",
       "      <td>2.109842</td>\n",
       "      <td>37.86</td>\n",
       "      <td>-122.22</td>\n",
       "    </tr>\n",
       "    <tr>\n",
       "      <th>2</th>\n",
       "      <td>7.2574</td>\n",
       "      <td>52.0</td>\n",
       "      <td>8.288136</td>\n",
       "      <td>1.073446</td>\n",
       "      <td>496.0</td>\n",
       "      <td>2.802260</td>\n",
       "      <td>37.85</td>\n",
       "      <td>-122.24</td>\n",
       "    </tr>\n",
       "    <tr>\n",
       "      <th>3</th>\n",
       "      <td>5.6431</td>\n",
       "      <td>52.0</td>\n",
       "      <td>5.817352</td>\n",
       "      <td>1.073059</td>\n",
       "      <td>558.0</td>\n",
       "      <td>2.547945</td>\n",
       "      <td>37.85</td>\n",
       "      <td>-122.25</td>\n",
       "    </tr>\n",
       "    <tr>\n",
       "      <th>4</th>\n",
       "      <td>3.8462</td>\n",
       "      <td>52.0</td>\n",
       "      <td>6.281853</td>\n",
       "      <td>1.081081</td>\n",
       "      <td>565.0</td>\n",
       "      <td>2.181467</td>\n",
       "      <td>37.85</td>\n",
       "      <td>-122.25</td>\n",
       "    </tr>\n",
       "    <tr>\n",
       "      <th>...</th>\n",
       "      <td>...</td>\n",
       "      <td>...</td>\n",
       "      <td>...</td>\n",
       "      <td>...</td>\n",
       "      <td>...</td>\n",
       "      <td>...</td>\n",
       "      <td>...</td>\n",
       "      <td>...</td>\n",
       "    </tr>\n",
       "    <tr>\n",
       "      <th>20635</th>\n",
       "      <td>1.5603</td>\n",
       "      <td>25.0</td>\n",
       "      <td>5.045455</td>\n",
       "      <td>1.133333</td>\n",
       "      <td>845.0</td>\n",
       "      <td>2.560606</td>\n",
       "      <td>39.48</td>\n",
       "      <td>-121.09</td>\n",
       "    </tr>\n",
       "    <tr>\n",
       "      <th>20636</th>\n",
       "      <td>2.5568</td>\n",
       "      <td>18.0</td>\n",
       "      <td>6.114035</td>\n",
       "      <td>1.315789</td>\n",
       "      <td>356.0</td>\n",
       "      <td>3.122807</td>\n",
       "      <td>39.49</td>\n",
       "      <td>-121.21</td>\n",
       "    </tr>\n",
       "    <tr>\n",
       "      <th>20637</th>\n",
       "      <td>1.7000</td>\n",
       "      <td>17.0</td>\n",
       "      <td>5.205543</td>\n",
       "      <td>1.120092</td>\n",
       "      <td>1007.0</td>\n",
       "      <td>2.325635</td>\n",
       "      <td>39.43</td>\n",
       "      <td>-121.22</td>\n",
       "    </tr>\n",
       "    <tr>\n",
       "      <th>20638</th>\n",
       "      <td>1.8672</td>\n",
       "      <td>18.0</td>\n",
       "      <td>5.329513</td>\n",
       "      <td>1.171920</td>\n",
       "      <td>741.0</td>\n",
       "      <td>2.123209</td>\n",
       "      <td>39.43</td>\n",
       "      <td>-121.32</td>\n",
       "    </tr>\n",
       "    <tr>\n",
       "      <th>20639</th>\n",
       "      <td>2.3886</td>\n",
       "      <td>16.0</td>\n",
       "      <td>5.254717</td>\n",
       "      <td>1.162264</td>\n",
       "      <td>1387.0</td>\n",
       "      <td>2.616981</td>\n",
       "      <td>39.37</td>\n",
       "      <td>-121.24</td>\n",
       "    </tr>\n",
       "  </tbody>\n",
       "</table>\n",
       "<p>20640 rows × 8 columns</p>\n",
       "</div>"
      ],
      "text/plain": [
       "       MedInc  HouseAge  AveRooms  AveBedrms  Population  AveOccup  Latitude  \\\n",
       "0      8.3252      41.0  6.984127   1.023810       322.0  2.555556     37.88   \n",
       "1      8.3014      21.0  6.238137   0.971880      2401.0  2.109842     37.86   \n",
       "2      7.2574      52.0  8.288136   1.073446       496.0  2.802260     37.85   \n",
       "3      5.6431      52.0  5.817352   1.073059       558.0  2.547945     37.85   \n",
       "4      3.8462      52.0  6.281853   1.081081       565.0  2.181467     37.85   \n",
       "...       ...       ...       ...        ...         ...       ...       ...   \n",
       "20635  1.5603      25.0  5.045455   1.133333       845.0  2.560606     39.48   \n",
       "20636  2.5568      18.0  6.114035   1.315789       356.0  3.122807     39.49   \n",
       "20637  1.7000      17.0  5.205543   1.120092      1007.0  2.325635     39.43   \n",
       "20638  1.8672      18.0  5.329513   1.171920       741.0  2.123209     39.43   \n",
       "20639  2.3886      16.0  5.254717   1.162264      1387.0  2.616981     39.37   \n",
       "\n",
       "       Longitude  \n",
       "0        -122.23  \n",
       "1        -122.22  \n",
       "2        -122.24  \n",
       "3        -122.25  \n",
       "4        -122.25  \n",
       "...          ...  \n",
       "20635    -121.09  \n",
       "20636    -121.21  \n",
       "20637    -121.22  \n",
       "20638    -121.32  \n",
       "20639    -121.24  \n",
       "\n",
       "[20640 rows x 8 columns]"
      ]
     },
     "execution_count": 44,
     "metadata": {},
     "output_type": "execute_result"
    }
   ],
   "source": [
    "df_data"
   ]
  },
  {
   "cell_type": "code",
   "execution_count": 57,
   "metadata": {
    "scrolled": false
   },
   "outputs": [
    {
     "data": {
      "text/plain": [
       "0    4.526\n",
       "1    3.585\n",
       "2    3.521\n",
       "3    3.413\n",
       "4    3.422\n",
       "Name: MedHouseVal, dtype: float64"
      ]
     },
     "execution_count": 57,
     "metadata": {},
     "output_type": "execute_result"
    }
   ],
   "source": [
    "california_housing.target.head()"
   ]
  },
  {
   "cell_type": "code",
   "execution_count": 79,
   "metadata": {},
   "outputs": [
    {
     "data": {
      "text/plain": [
       "count    20640.000000\n",
       "mean         2.068558\n",
       "std          1.153956\n",
       "min          0.149990\n",
       "25%          1.196000\n",
       "50%          1.797000\n",
       "75%          2.647250\n",
       "max          5.000010\n",
       "Name: MedHouseVal, dtype: float64"
      ]
     },
     "execution_count": 79,
     "metadata": {},
     "output_type": "execute_result"
    }
   ],
   "source": [
    "california_housing.target.describe()"
   ]
  },
  {
   "cell_type": "markdown",
   "metadata": {},
   "source": [
    "For california housing target data, it contains the concept of prediction of housing prices.It is interesting that the minimun of the housing price is 0.149 and the mean of the houding price is 2.068. It contains a board range of the housing price. "
   ]
  },
  {
   "cell_type": "code",
   "execution_count": 85,
   "metadata": {
    "scrolled": true
   },
   "outputs": [],
   "source": [
    "highPriced=[]\n",
    "for i in range(len(california_housing.target)):\n",
    "    highPriced.append(1) if california_housing.target[i] > 3.5 else highPriced.append(0)"
   ]
  },
  {
   "cell_type": "code",
   "execution_count": 87,
   "metadata": {},
   "outputs": [],
   "source": [
    "h = np.column_stack((california_housing.data,highPriced))"
   ]
  },
  {
   "cell_type": "code",
   "execution_count": 423,
   "metadata": {},
   "outputs": [],
   "source": [
    "h = np.column_stack((california_housing.data,highPriced))\n",
    "h_dataFrame=pd.DataFrame(h, columns=['MedInc','HouseAge','AveRooms','AveBedrms','Population',\n",
    "                                     'AveOccup','Latitude','Longitude','highPriced'])"
   ]
  },
  {
   "cell_type": "code",
   "execution_count": 424,
   "metadata": {},
   "outputs": [
    {
     "data": {
      "text/plain": [
       "array([[<matplotlib.axes._subplots.AxesSubplot object at 0x1395a75e0>,\n",
       "        <matplotlib.axes._subplots.AxesSubplot object at 0x1396e79a0>,\n",
       "        <matplotlib.axes._subplots.AxesSubplot object at 0x139732190>,\n",
       "        <matplotlib.axes._subplots.AxesSubplot object at 0x139759910>,\n",
       "        <matplotlib.axes._subplots.AxesSubplot object at 0x139782130>,\n",
       "        <matplotlib.axes._subplots.AxesSubplot object at 0x1397b7790>,\n",
       "        <matplotlib.axes._subplots.AxesSubplot object at 0x1397b7880>,\n",
       "        <matplotlib.axes._subplots.AxesSubplot object at 0x137ae70a0>,\n",
       "        <matplotlib.axes._subplots.AxesSubplot object at 0x1395e5f70>],\n",
       "       [<matplotlib.axes._subplots.AxesSubplot object at 0x1399a9730>,\n",
       "        <matplotlib.axes._subplots.AxesSubplot object at 0x139cc6eb0>,\n",
       "        <matplotlib.axes._subplots.AxesSubplot object at 0x139cfb670>,\n",
       "        <matplotlib.axes._subplots.AxesSubplot object at 0x139d26df0>,\n",
       "        <matplotlib.axes._subplots.AxesSubplot object at 0x139d5a5b0>,\n",
       "        <matplotlib.axes._subplots.AxesSubplot object at 0x139d84d30>,\n",
       "        <matplotlib.axes._subplots.AxesSubplot object at 0x139dba4f0>,\n",
       "        <matplotlib.axes._subplots.AxesSubplot object at 0x139de3c70>,\n",
       "        <matplotlib.axes._subplots.AxesSubplot object at 0x139e18430>],\n",
       "       [<matplotlib.axes._subplots.AxesSubplot object at 0x139e42bb0>,\n",
       "        <matplotlib.axes._subplots.AxesSubplot object at 0x139e79370>,\n",
       "        <matplotlib.axes._subplots.AxesSubplot object at 0x139ea2af0>,\n",
       "        <matplotlib.axes._subplots.AxesSubplot object at 0x139ed82b0>,\n",
       "        <matplotlib.axes._subplots.AxesSubplot object at 0x139f00a30>,\n",
       "        <matplotlib.axes._subplots.AxesSubplot object at 0x139f351f0>,\n",
       "        <matplotlib.axes._subplots.AxesSubplot object at 0x139f5e970>,\n",
       "        <matplotlib.axes._subplots.AxesSubplot object at 0x139f97130>,\n",
       "        <matplotlib.axes._subplots.AxesSubplot object at 0x139fbf8b0>],\n",
       "       [<matplotlib.axes._subplots.AxesSubplot object at 0x139feb0d0>,\n",
       "        <matplotlib.axes._subplots.AxesSubplot object at 0x13a0207f0>,\n",
       "        <matplotlib.axes._subplots.AxesSubplot object at 0x13a04af70>,\n",
       "        <matplotlib.axes._subplots.AxesSubplot object at 0x13a07e730>,\n",
       "        <matplotlib.axes._subplots.AxesSubplot object at 0x13a0a9eb0>,\n",
       "        <matplotlib.axes._subplots.AxesSubplot object at 0x13a0de670>,\n",
       "        <matplotlib.axes._subplots.AxesSubplot object at 0x13a108df0>,\n",
       "        <matplotlib.axes._subplots.AxesSubplot object at 0x13a13d5b0>,\n",
       "        <matplotlib.axes._subplots.AxesSubplot object at 0x13a168d30>],\n",
       "       [<matplotlib.axes._subplots.AxesSubplot object at 0x13a19d4f0>,\n",
       "        <matplotlib.axes._subplots.AxesSubplot object at 0x13a1c6c70>,\n",
       "        <matplotlib.axes._subplots.AxesSubplot object at 0x1345deb50>,\n",
       "        <matplotlib.axes._subplots.AxesSubplot object at 0x134744ac0>,\n",
       "        <matplotlib.axes._subplots.AxesSubplot object at 0x1397e34f0>,\n",
       "        <matplotlib.axes._subplots.AxesSubplot object at 0x139860df0>,\n",
       "        <matplotlib.axes._subplots.AxesSubplot object at 0x139588a60>,\n",
       "        <matplotlib.axes._subplots.AxesSubplot object at 0x13933e880>,\n",
       "        <matplotlib.axes._subplots.AxesSubplot object at 0x139132880>],\n",
       "       [<matplotlib.axes._subplots.AxesSubplot object at 0x131401880>,\n",
       "        <matplotlib.axes._subplots.AxesSubplot object at 0x138cb6790>,\n",
       "        <matplotlib.axes._subplots.AxesSubplot object at 0x138abb6d0>,\n",
       "        <matplotlib.axes._subplots.AxesSubplot object at 0x1386d8430>,\n",
       "        <matplotlib.axes._subplots.AxesSubplot object at 0x138685490>,\n",
       "        <matplotlib.axes._subplots.AxesSubplot object at 0x137f36220>,\n",
       "        <matplotlib.axes._subplots.AxesSubplot object at 0x137b4b3a0>,\n",
       "        <matplotlib.axes._subplots.AxesSubplot object at 0x1378c2520>,\n",
       "        <matplotlib.axes._subplots.AxesSubplot object at 0x13775b700>],\n",
       "       [<matplotlib.axes._subplots.AxesSubplot object at 0x1376152e0>,\n",
       "        <matplotlib.axes._subplots.AxesSubplot object at 0x133941f10>,\n",
       "        <matplotlib.axes._subplots.AxesSubplot object at 0x136cec580>,\n",
       "        <matplotlib.axes._subplots.AxesSubplot object at 0x136bc2dc0>,\n",
       "        <matplotlib.axes._subplots.AxesSubplot object at 0x13630f8e0>,\n",
       "        <matplotlib.axes._subplots.AxesSubplot object at 0x136963a00>,\n",
       "        <matplotlib.axes._subplots.AxesSubplot object at 0x1362fe040>,\n",
       "        <matplotlib.axes._subplots.AxesSubplot object at 0x13958c190>,\n",
       "        <matplotlib.axes._subplots.AxesSubplot object at 0x1386d14c0>],\n",
       "       [<matplotlib.axes._subplots.AxesSubplot object at 0x137607be0>,\n",
       "        <matplotlib.axes._subplots.AxesSubplot object at 0x13a1d3400>,\n",
       "        <matplotlib.axes._subplots.AxesSubplot object at 0x13a1e5850>,\n",
       "        <matplotlib.axes._subplots.AxesSubplot object at 0x138aa8ca0>,\n",
       "        <matplotlib.axes._subplots.AxesSubplot object at 0x1371beeb0>,\n",
       "        <matplotlib.axes._subplots.AxesSubplot object at 0x136ef8670>,\n",
       "        <matplotlib.axes._subplots.AxesSubplot object at 0x1313e0df0>,\n",
       "        <matplotlib.axes._subplots.AxesSubplot object at 0x1388a3d60>,\n",
       "        <matplotlib.axes._subplots.AxesSubplot object at 0x1386cdd30>],\n",
       "       [<matplotlib.axes._subplots.AxesSubplot object at 0x136f774f0>,\n",
       "        <matplotlib.axes._subplots.AxesSubplot object at 0x138430c70>,\n",
       "        <matplotlib.axes._subplots.AxesSubplot object at 0x136f40430>,\n",
       "        <matplotlib.axes._subplots.AxesSubplot object at 0x13804abb0>,\n",
       "        <matplotlib.axes._subplots.AxesSubplot object at 0x13703f370>,\n",
       "        <matplotlib.axes._subplots.AxesSubplot object at 0x13913faf0>,\n",
       "        <matplotlib.axes._subplots.AxesSubplot object at 0x13702a2e0>,\n",
       "        <matplotlib.axes._subplots.AxesSubplot object at 0x136e45a60>,\n",
       "        <matplotlib.axes._subplots.AxesSubplot object at 0x137095220>]],\n",
       "      dtype=object)"
      ]
     },
     "execution_count": 424,
     "metadata": {},
     "output_type": "execute_result"
    },
    {
     "data": {
      "image/png": "[encoded data removed]",
      "text/plain": [
       "<Figure size 432x288 with 81 Axes>"
      ]
     },
     "metadata": {
      "needs_background": "light"
     },
     "output_type": "display_data"
    }
   ],
   "source": [
    "pd.plotting.scatter_matrix(frame=h_dataFrame,alpha=1)"
   ]
  },
  {
   "cell_type": "markdown",
   "metadata": {},
   "source": [
    "In this plot, I see the highpriced and different variables such as MedInc,HouseAge,AveRooms,AveBedrms,Population, AveOccup,Latitude,Longitude has less correlation. They don't show in a clear correlation. "
   ]
  },
  {
   "cell_type": "markdown",
   "metadata": {},
   "source": [
    "6. Using your helper functions and with highPriced as your output, find what the best split is along the Population variable using each of Gini impurity and entropy as the splitting criterion. (Hint: it may help to build this process as a function because you will be doing it many times throughout this problem set.) To do this for a continuous variable, iterate through each possible value in the column and assume the “left” side of each split contains all values less than and the “right” side contains all values equal to or greater than. What is the optimal split point when using Gini impurity? What about when using entropy? What if we calculate splits for the AveRooms variable using both Gini impurity and entropy? Comment on any similarities and differences when using the different metrics."
   ]
  },
  {
   "cell_type": "code",
   "execution_count": 478,
   "metadata": {
    "scrolled": true
   },
   "outputs": [
    {
     "data": {
      "text/html": [
       "<div>\n",
       "<style scoped>\n",
       "    .dataframe tbody tr th:only-of-type {\n",
       "        vertical-align: middle;\n",
       "    }\n",
       "\n",
       "    .dataframe tbody tr th {\n",
       "        vertical-align: top;\n",
       "    }\n",
       "\n",
       "    .dataframe thead th {\n",
       "        text-align: right;\n",
       "    }\n",
       "</style>\n",
       "<table border=\"1\" class=\"dataframe\">\n",
       "  <thead>\n",
       "    <tr style=\"text-align: right;\">\n",
       "      <th></th>\n",
       "      <th>MedInc</th>\n",
       "      <th>HouseAge</th>\n",
       "      <th>AveRooms</th>\n",
       "      <th>AveBedrms</th>\n",
       "      <th>Population</th>\n",
       "      <th>AveOccup</th>\n",
       "      <th>Latitude</th>\n",
       "      <th>Longitude</th>\n",
       "      <th>highPriced</th>\n",
       "    </tr>\n",
       "  </thead>\n",
       "  <tbody>\n",
       "    <tr>\n",
       "      <th>0</th>\n",
       "      <td>8.3252</td>\n",
       "      <td>41.0</td>\n",
       "      <td>6.984127</td>\n",
       "      <td>1.023810</td>\n",
       "      <td>322.0</td>\n",
       "      <td>2.555556</td>\n",
       "      <td>37.88</td>\n",
       "      <td>-122.23</td>\n",
       "      <td>1.0</td>\n",
       "    </tr>\n",
       "    <tr>\n",
       "      <th>1</th>\n",
       "      <td>8.3014</td>\n",
       "      <td>21.0</td>\n",
       "      <td>6.238137</td>\n",
       "      <td>0.971880</td>\n",
       "      <td>2401.0</td>\n",
       "      <td>2.109842</td>\n",
       "      <td>37.86</td>\n",
       "      <td>-122.22</td>\n",
       "      <td>1.0</td>\n",
       "    </tr>\n",
       "    <tr>\n",
       "      <th>2</th>\n",
       "      <td>7.2574</td>\n",
       "      <td>52.0</td>\n",
       "      <td>8.288136</td>\n",
       "      <td>1.073446</td>\n",
       "      <td>496.0</td>\n",
       "      <td>2.802260</td>\n",
       "      <td>37.85</td>\n",
       "      <td>-122.24</td>\n",
       "      <td>1.0</td>\n",
       "    </tr>\n",
       "    <tr>\n",
       "      <th>3</th>\n",
       "      <td>5.6431</td>\n",
       "      <td>52.0</td>\n",
       "      <td>5.817352</td>\n",
       "      <td>1.073059</td>\n",
       "      <td>558.0</td>\n",
       "      <td>2.547945</td>\n",
       "      <td>37.85</td>\n",
       "      <td>-122.25</td>\n",
       "      <td>0.0</td>\n",
       "    </tr>\n",
       "    <tr>\n",
       "      <th>4</th>\n",
       "      <td>3.8462</td>\n",
       "      <td>52.0</td>\n",
       "      <td>6.281853</td>\n",
       "      <td>1.081081</td>\n",
       "      <td>565.0</td>\n",
       "      <td>2.181467</td>\n",
       "      <td>37.85</td>\n",
       "      <td>-122.25</td>\n",
       "      <td>0.0</td>\n",
       "    </tr>\n",
       "    <tr>\n",
       "      <th>...</th>\n",
       "      <td>...</td>\n",
       "      <td>...</td>\n",
       "      <td>...</td>\n",
       "      <td>...</td>\n",
       "      <td>...</td>\n",
       "      <td>...</td>\n",
       "      <td>...</td>\n",
       "      <td>...</td>\n",
       "      <td>...</td>\n",
       "    </tr>\n",
       "    <tr>\n",
       "      <th>20635</th>\n",
       "      <td>1.5603</td>\n",
       "      <td>25.0</td>\n",
       "      <td>5.045455</td>\n",
       "      <td>1.133333</td>\n",
       "      <td>845.0</td>\n",
       "      <td>2.560606</td>\n",
       "      <td>39.48</td>\n",
       "      <td>-121.09</td>\n",
       "      <td>0.0</td>\n",
       "    </tr>\n",
       "    <tr>\n",
       "      <th>20636</th>\n",
       "      <td>2.5568</td>\n",
       "      <td>18.0</td>\n",
       "      <td>6.114035</td>\n",
       "      <td>1.315789</td>\n",
       "      <td>356.0</td>\n",
       "      <td>3.122807</td>\n",
       "      <td>39.49</td>\n",
       "      <td>-121.21</td>\n",
       "      <td>0.0</td>\n",
       "    </tr>\n",
       "    <tr>\n",
       "      <th>20637</th>\n",
       "      <td>1.7000</td>\n",
       "      <td>17.0</td>\n",
       "      <td>5.205543</td>\n",
       "      <td>1.120092</td>\n",
       "      <td>1007.0</td>\n",
       "      <td>2.325635</td>\n",
       "      <td>39.43</td>\n",
       "      <td>-121.22</td>\n",
       "      <td>0.0</td>\n",
       "    </tr>\n",
       "    <tr>\n",
       "      <th>20638</th>\n",
       "      <td>1.8672</td>\n",
       "      <td>18.0</td>\n",
       "      <td>5.329513</td>\n",
       "      <td>1.171920</td>\n",
       "      <td>741.0</td>\n",
       "      <td>2.123209</td>\n",
       "      <td>39.43</td>\n",
       "      <td>-121.32</td>\n",
       "      <td>0.0</td>\n",
       "    </tr>\n",
       "    <tr>\n",
       "      <th>20639</th>\n",
       "      <td>2.3886</td>\n",
       "      <td>16.0</td>\n",
       "      <td>5.254717</td>\n",
       "      <td>1.162264</td>\n",
       "      <td>1387.0</td>\n",
       "      <td>2.616981</td>\n",
       "      <td>39.37</td>\n",
       "      <td>-121.24</td>\n",
       "      <td>0.0</td>\n",
       "    </tr>\n",
       "  </tbody>\n",
       "</table>\n",
       "<p>20640 rows × 9 columns</p>\n",
       "</div>"
      ],
      "text/plain": [
       "       MedInc  HouseAge  AveRooms  AveBedrms  Population  AveOccup  Latitude  \\\n",
       "0      8.3252      41.0  6.984127   1.023810       322.0  2.555556     37.88   \n",
       "1      8.3014      21.0  6.238137   0.971880      2401.0  2.109842     37.86   \n",
       "2      7.2574      52.0  8.288136   1.073446       496.0  2.802260     37.85   \n",
       "3      5.6431      52.0  5.817352   1.073059       558.0  2.547945     37.85   \n",
       "4      3.8462      52.0  6.281853   1.081081       565.0  2.181467     37.85   \n",
       "...       ...       ...       ...        ...         ...       ...       ...   \n",
       "20635  1.5603      25.0  5.045455   1.133333       845.0  2.560606     39.48   \n",
       "20636  2.5568      18.0  6.114035   1.315789       356.0  3.122807     39.49   \n",
       "20637  1.7000      17.0  5.205543   1.120092      1007.0  2.325635     39.43   \n",
       "20638  1.8672      18.0  5.329513   1.171920       741.0  2.123209     39.43   \n",
       "20639  2.3886      16.0  5.254717   1.162264      1387.0  2.616981     39.37   \n",
       "\n",
       "       Longitude  highPriced  \n",
       "0        -122.23         1.0  \n",
       "1        -122.22         1.0  \n",
       "2        -122.24         1.0  \n",
       "3        -122.25         0.0  \n",
       "4        -122.25         0.0  \n",
       "...          ...         ...  \n",
       "20635    -121.09         0.0  \n",
       "20636    -121.21         0.0  \n",
       "20637    -121.22         0.0  \n",
       "20638    -121.32         0.0  \n",
       "20639    -121.24         0.0  \n",
       "\n",
       "[20640 rows x 9 columns]"
      ]
     },
     "execution_count": 478,
     "metadata": {},
     "output_type": "execute_result"
    }
   ],
   "source": [
    "h_dataFrame"
   ]
  },
  {
   "cell_type": "code",
   "execution_count": 485,
   "metadata": {},
   "outputs": [],
   "source": [
    "import numpy as np\n",
    " \n",
    "def split_numerical(attribute_index, thresh, datasets):\n",
    "    left, right = [], []\n",
    "    for r in datasets:\n",
    "        if r[attribute_index] < thresh:\n",
    "            left.append(r)\n",
    "        else:\n",
    "            right.append(r)\n",
    "    return left, right"
   ]
  },
  {
   "cell_type": "code",
   "execution_count": 471,
   "metadata": {},
   "outputs": [],
   "source": [
    "def cal_gini(split_datas, labels):\n",
    "    N = sum([len(d) for d in split_datas])\n",
    "    gini_S_A = 0\n",
    "    for d in split_datas:\n",
    "        N_t = len(d)\n",
    "        if N_t == 0:\n",
    "            continue\n",
    "        sum_p_tk = 0\n",
    "        for label in labels:\n",
    "            p_tk = [r[-1] for r in d].count(label) / N_t\n",
    "            sum_p_tk += p_tk * p_tk\n",
    "        gini_S = 1 - sum_p_tk\n",
    "        gini_S_A = N_t / N * gini_S\n",
    "    return gini_S_A\n",
    "\n",
    "from collections import Counter\n",
    "import math"
   ]
  },
  {
   "cell_type": "code",
   "execution_count": 472,
   "metadata": {},
   "outputs": [],
   "source": [
    "def cal_entropy(dataset):\n",
    "    n = len(dataset)\n",
    "    data_temp=np.array(dataset)\n",
    "    labels = Counter(data_temp[:, -1])\n",
    "    entropy = 0.0\n",
    "    for k, v in labels.items():\n",
    "        prob = v / n\n",
    "        entropy -= prob * math.log(prob, 2)\n",
    "    return entropy"
   ]
  },
  {
   "cell_type": "code",
   "execution_count": 473,
   "metadata": {},
   "outputs": [],
   "source": [
    "def split_all_attributes(datasets,index):\n",
    "    labels = list(set([r[-1] for r in datasets]))\n",
    "    best_attribute_index, best_thresh, best_gini, best_entropy, best_split_datas = 999, 999, 999, 999, None\n",
    "    for attribute_index in range(len(datasets[0]) - 1):\n",
    "        for r in datasets:\n",
    "            thresh = r[attribute_index]\n",
    "            split_datas = split_numerical(attribute_index, thresh, datasets)\n",
    "            if index ==1:\n",
    "                gini = cal_gini(split_datas, labels)\n",
    "                if gini < best_gini:\n",
    "                    best_attribute_index, best_thresh, best_gini, \\\n",
    "                    best_split_datas = attribute_index, thresh, gini, split_datas\n",
    "            else:\n",
    "               entropy = cal_entropy(datasets)\n",
    "               if entropy < best_entropy:\n",
    "                    best_attribute_index, best_thresh, best_entropy, \\\n",
    "                    best_split_datas = attribute_index, thresh, entropy, split_datas\n",
    "                \n",
    "        root = {'best_attribute_index': best_attribute_index, 'best_thresh': best_thresh,\n",
    "                'best_split_datas': best_split_datas}\n",
    "    #return root\n",
    "    return best_thresh"
   ]
  },
  {
   "cell_type": "code",
   "execution_count": 474,
   "metadata": {},
   "outputs": [],
   "source": [
    "Pop_data=h_dataFrame['Population']\n",
    "target = h_dataFrame['highPriced']\n",
    "Pop_datasets = np.c_[Pop_data, target].tolist()\n",
    "\n",
    "Rooms_data=h_dataFrame['AveRooms']\n",
    "target = h_dataFrame['highPriced']\n",
    "Rooms_datasets = np.c_[Rooms_data, target].tolist()"
   ]
  },
  {
   "cell_type": "code",
   "execution_count": 476,
   "metadata": {},
   "outputs": [
    {
     "name": "stdout",
     "output_type": "stream",
     "text": [
      "Gini optimal split point for Population 28566.00:\n",
      "Gini optimal split point for AveRooms 141.91:\n"
     ]
    }
   ],
   "source": [
    "#### index=1 is gini and index=0 is entropy\n",
    "index=1\n",
    "Pop_gini=split_all_attributes(Pop_datasets,index)\n",
    "#print(Pop_gini)\n",
    "print('Gini optimal split point for Population {:.2f}:'.format(Pop_gini))\n",
    "\n",
    "Rooms_gini=split_all_attributes(Rooms_datasets,index)\n",
    "#print(Rooms_gini)\n",
    "print('Gini optimal split point for AveRooms {:.2f}:'.format(Rooms_gini))\n",
    "\n"
   ]
  },
  {
   "cell_type": "code",
   "execution_count": 515,
   "metadata": {},
   "outputs": [
    {
     "name": "stdout",
     "output_type": "stream",
     "text": [
      "Entropy optimal split point for Population 322.00:\n"
     ]
    },
    {
     "ename": "KeyboardInterrupt",
     "evalue": "",
     "output_type": "error",
     "traceback": [
      "\u001b[0;31m---------------------------------------------------------------------------\u001b[0m",
      "\u001b[0;31mKeyboardInterrupt\u001b[0m                         Traceback (most recent call last)",
      "\u001b[0;32m<ipython-input-515-b04b645c95b6>\u001b[0m in \u001b[0;36m<module>\u001b[0;34m\u001b[0m\n\u001b[1;32m      4\u001b[0m \u001b[0mprint\u001b[0m\u001b[0;34m(\u001b[0m\u001b[0;34m'Entropy optimal split point for Population {:.2f}:'\u001b[0m\u001b[0;34m.\u001b[0m\u001b[0mformat\u001b[0m\u001b[0;34m(\u001b[0m\u001b[0mPop_entropy\u001b[0m\u001b[0;34m)\u001b[0m\u001b[0;34m)\u001b[0m\u001b[0;34m\u001b[0m\u001b[0;34m\u001b[0m\u001b[0m\n\u001b[1;32m      5\u001b[0m \u001b[0;34m\u001b[0m\u001b[0m\n\u001b[0;32m----> 6\u001b[0;31m \u001b[0mRooms_entropy\u001b[0m\u001b[0;34m=\u001b[0m\u001b[0msplit_all_attributes\u001b[0m\u001b[0;34m(\u001b[0m\u001b[0mRooms_datasets\u001b[0m\u001b[0;34m,\u001b[0m\u001b[0mindex\u001b[0m\u001b[0;34m)\u001b[0m\u001b[0;34m\u001b[0m\u001b[0;34m\u001b[0m\u001b[0m\n\u001b[0m\u001b[1;32m      7\u001b[0m \u001b[0;31m#print(Rooms_entropy)\u001b[0m\u001b[0;34m\u001b[0m\u001b[0;34m\u001b[0m\u001b[0;34m\u001b[0m\u001b[0m\n\u001b[1;32m      8\u001b[0m \u001b[0mprint\u001b[0m\u001b[0;34m(\u001b[0m\u001b[0;34m'Gini optimal split point for AveRooms {:.2f}:'\u001b[0m\u001b[0;34m.\u001b[0m\u001b[0mformat\u001b[0m\u001b[0;34m(\u001b[0m\u001b[0mRooms_entropy\u001b[0m\u001b[0;34m)\u001b[0m\u001b[0;34m)\u001b[0m\u001b[0;34m\u001b[0m\u001b[0;34m\u001b[0m\u001b[0m\n",
      "\u001b[0;32m<ipython-input-473-17fd17a96129>\u001b[0m in \u001b[0;36msplit_all_attributes\u001b[0;34m(datasets, index)\u001b[0m\n\u001b[1;32m     14\u001b[0m                     \u001b[0mbest_split_datas\u001b[0m \u001b[0;34m=\u001b[0m \u001b[0mattribute_index\u001b[0m\u001b[0;34m,\u001b[0m \u001b[0mthresh\u001b[0m\u001b[0;34m,\u001b[0m \u001b[0mgini\u001b[0m\u001b[0;34m,\u001b[0m \u001b[0msplit_datas\u001b[0m\u001b[0;34m\u001b[0m\u001b[0;34m\u001b[0m\u001b[0m\n\u001b[1;32m     15\u001b[0m             \u001b[0;32melse\u001b[0m\u001b[0;34m:\u001b[0m\u001b[0;34m\u001b[0m\u001b[0;34m\u001b[0m\u001b[0m\n\u001b[0;32m---> 16\u001b[0;31m                \u001b[0mentropy\u001b[0m \u001b[0;34m=\u001b[0m \u001b[0mcal_entropy\u001b[0m\u001b[0;34m(\u001b[0m\u001b[0mdatasets\u001b[0m\u001b[0;34m)\u001b[0m\u001b[0;34m\u001b[0m\u001b[0;34m\u001b[0m\u001b[0m\n\u001b[0m\u001b[1;32m     17\u001b[0m                \u001b[0;32mif\u001b[0m \u001b[0mentropy\u001b[0m \u001b[0;34m<\u001b[0m \u001b[0mbest_entropy\u001b[0m\u001b[0;34m:\u001b[0m\u001b[0;34m\u001b[0m\u001b[0;34m\u001b[0m\u001b[0m\n\u001b[1;32m     18\u001b[0m                     \u001b[0mbest_attribute_index\u001b[0m\u001b[0;34m,\u001b[0m \u001b[0mbest_thresh\u001b[0m\u001b[0;34m,\u001b[0m \u001b[0mbest_entropy\u001b[0m\u001b[0;34m,\u001b[0m\u001b[0;31m \u001b[0m\u001b[0;31m\\\u001b[0m\u001b[0;34m\u001b[0m\u001b[0;34m\u001b[0m\u001b[0m\n",
      "\u001b[0;32m<ipython-input-472-d651321da2d9>\u001b[0m in \u001b[0;36mcal_entropy\u001b[0;34m(dataset)\u001b[0m\n\u001b[1;32m      1\u001b[0m \u001b[0;32mdef\u001b[0m \u001b[0mcal_entropy\u001b[0m\u001b[0;34m(\u001b[0m\u001b[0mdataset\u001b[0m\u001b[0;34m)\u001b[0m\u001b[0;34m:\u001b[0m\u001b[0;34m\u001b[0m\u001b[0;34m\u001b[0m\u001b[0m\n\u001b[1;32m      2\u001b[0m     \u001b[0mn\u001b[0m \u001b[0;34m=\u001b[0m \u001b[0mlen\u001b[0m\u001b[0;34m(\u001b[0m\u001b[0mdataset\u001b[0m\u001b[0;34m)\u001b[0m\u001b[0;34m\u001b[0m\u001b[0;34m\u001b[0m\u001b[0m\n\u001b[0;32m----> 3\u001b[0;31m     \u001b[0mdata_temp\u001b[0m\u001b[0;34m=\u001b[0m\u001b[0mnp\u001b[0m\u001b[0;34m.\u001b[0m\u001b[0marray\u001b[0m\u001b[0;34m(\u001b[0m\u001b[0mdataset\u001b[0m\u001b[0;34m)\u001b[0m\u001b[0;34m\u001b[0m\u001b[0;34m\u001b[0m\u001b[0m\n\u001b[0m\u001b[1;32m      4\u001b[0m     \u001b[0;31m# 我们用Counter统计一下Y的数量\u001b[0m\u001b[0;34m\u001b[0m\u001b[0;34m\u001b[0m\u001b[0;34m\u001b[0m\u001b[0m\n\u001b[1;32m      5\u001b[0m     \u001b[0mlabels\u001b[0m \u001b[0;34m=\u001b[0m \u001b[0mCounter\u001b[0m\u001b[0;34m(\u001b[0m\u001b[0mdata_temp\u001b[0m\u001b[0;34m[\u001b[0m\u001b[0;34m:\u001b[0m\u001b[0;34m,\u001b[0m \u001b[0;34m-\u001b[0m\u001b[0;36m1\u001b[0m\u001b[0;34m]\u001b[0m\u001b[0;34m)\u001b[0m\u001b[0;34m\u001b[0m\u001b[0;34m\u001b[0m\u001b[0m\n",
      "\u001b[0;31mKeyboardInterrupt\u001b[0m: "
     ]
    }
   ],
   "source": [
    "index=0   \n",
    "Pop_entropy=split_all_attributes(Pop_datasets,index)\n",
    "#print(Pop_entropy)\n",
    "print('Entropy optimal split point for Population {:.2f}:'.format(Pop_entropy))\n",
    "\n",
    "Rooms_entropy=split_all_attributes(Rooms_datasets,index)\n",
    "#print(Rooms_entropy)\n",
    "print('Gini optimal split point for AveRooms {:.2f}:'.format(Rooms_entropy))"
   ]
  },
  {
   "cell_type": "code",
   "execution_count": null,
   "metadata": {},
   "outputs": [],
   "source": []
  },
  {
   "cell_type": "markdown",
   "metadata": {},
   "source": [
    "7. Import sklearn’s DecisionTreeClassifier and find the optimal split along the Pop- ulation variable using entropy. Show that the optimal value as calculated by sklearn’s classifier is 1183.5. If this is different than what you calculated, explain why and adjust your outputs so it gives you the same value. (Hint: you may have implemented a splitting method that looked at axis-aligned splits at each data point whereas sklearn looks at axis-aligned splits between each pair of data points. In other words, if your data contained [1, 2, 3, 4], you may have split at ≥ 1, at ≥ 2, at ≥ 3, etc. sklearn may instead look at splits between 1 and 2, 2 and 3, etc.)"
   ]
  },
  {
   "cell_type": "code",
   "execution_count": 242,
   "metadata": {
    "scrolled": true
   },
   "outputs": [
    {
     "data": {
      "text/plain": [
       "0         322.0\n",
       "1        2401.0\n",
       "2         496.0\n",
       "3         558.0\n",
       "4         565.0\n",
       "          ...  \n",
       "20635     845.0\n",
       "20636     356.0\n",
       "20637    1007.0\n",
       "20638     741.0\n",
       "20639    1387.0\n",
       "Name: Population, Length: 20640, dtype: float64"
      ]
     },
     "execution_count": 242,
     "metadata": {},
     "output_type": "execute_result"
    }
   ],
   "source": [
    "h3=h2.iloc[:,0]\n",
    "h3"
   ]
  },
  {
   "cell_type": "code",
   "execution_count": 243,
   "metadata": {},
   "outputs": [
    {
     "data": {
      "text/plain": [
       "0        1.0\n",
       "1        1.0\n",
       "2        1.0\n",
       "3        0.0\n",
       "4        0.0\n",
       "        ... \n",
       "20635    0.0\n",
       "20636    0.0\n",
       "20637    0.0\n",
       "20638    0.0\n",
       "20639    0.0\n",
       "Name: highPriced, Length: 20640, dtype: float64"
      ]
     },
     "execution_count": 243,
     "metadata": {},
     "output_type": "execute_result"
    }
   ],
   "source": [
    "target=h2.iloc[:,1]\n",
    "target"
   ]
  },
  {
   "cell_type": "code",
   "execution_count": 244,
   "metadata": {},
   "outputs": [],
   "source": [
    "from sklearn.tree import DecisionTreeClassifier\n",
    "clf = tree.DecisionTreeClassifier(criterion=\"entropy\",splitter=\"best\", max_depth=2)\n"
   ]
  },
  {
   "cell_type": "code",
   "execution_count": 247,
   "metadata": {},
   "outputs": [
    {
     "data": {
      "image/png": "[encoded data removed]",
      "text/plain": [
       "<Figure size 432x288 with 1 Axes>"
      ]
     },
     "metadata": {
      "needs_background": "light"
     },
     "output_type": "display_data"
    }
   ],
   "source": [
    "clf=tree.DecisionTreeClassifier(criterion='entropy', splitter='best', max_depth=2)\n",
    "h3=np.array(h3)\n",
    "h3=h3.reshape(-1, 1)\n",
    "target=np.array(target)\n",
    "target=target.reshape(-1,1)\n",
    "\n",
    "clf = clf.fit(h3, target)\n",
    "tree.plot_tree(clf)\n",
    "plt.show()"
   ]
  },
  {
   "cell_type": "code",
   "execution_count": 468,
   "metadata": {},
   "outputs": [],
   "source": [
    "n_nodes = clf.tree_.node_count\n",
    "children_left = clf.tree_.children_left\n",
    "children_right = clf.tree_.children_right\n",
    "feature = clf.tree_.feature\n",
    "threshold = clf.tree_.threshold\n"
   ]
  },
  {
   "cell_type": "code",
   "execution_count": 466,
   "metadata": {},
   "outputs": [
    {
     "name": "stdout",
     "output_type": "stream",
     "text": [
      "The binary tree structure has 7 nodes and has the following tree structure:\n",
      "\n",
      "node=0 is a split node: go to node 1 if X[:, 0] <= 6.584399938583374 else to node 4.\n",
      "\tnode=1 is a split node: go to node 2 if X[:, 0] <= 5.278800010681152 else to node 3.\n",
      "\t\tnode=2 is a leaf node.\n",
      "\t\tnode=3 is a leaf node.\n",
      "\tnode=4 is a split node: go to node 5 if X[:, 0] <= 7.955650091171265 else to node 6.\n",
      "\t\tnode=5 is a leaf node.\n",
      "\t\tnode=6 is a leaf node.\n"
     ]
    }
   ],
   "source": [
    "node_depth = np.zeros(shape=n_nodes, dtype=np.int64)\n",
    "is_leaves = np.zeros(shape=n_nodes, dtype=bool)\n",
    "stack = [(0, 0)]  # start with the root node id (0) and its depth (0)\n",
    "while len(stack) > 0:\n",
    "    # `pop` ensures each node is only visited once\n",
    "    node_id, depth = stack.pop()\n",
    "    node_depth[node_id] = depth\n",
    "\n",
    "    # If the left and right child of a node is not the same we have a split\n",
    "    # node\n",
    "    is_split_node = children_left[node_id] != children_right[node_id]\n",
    "    # If a split node, append left and right children and depth to `stack`\n",
    "    # so we can loop through them\n",
    "    if is_split_node:\n",
    "        stack.append((children_left[node_id], depth + 1))\n",
    "        stack.append((children_right[node_id], depth + 1))\n",
    "    else:\n",
    "        is_leaves[node_id] = True\n",
    "\n",
    "print(\n",
    "    \"The binary tree structure has {n} nodes and has \"\n",
    "    \"the following tree structure:\\n\".format(n=n_nodes)\n",
    ")\n",
    "for i in range(n_nodes):\n",
    "    if is_leaves[i]:\n",
    "        print(\n",
    "            \"{space}node={node} is a leaf node.\".format(\n",
    "                space=node_depth[i] * \"\\t\", node=i\n",
    "            )\n",
    "        )\n",
    "    else:\n",
    "        print(\n",
    "            \"{space}node={node} is a split node: \"\n",
    "            \"go to node {left} if X[:, {feature}] <= {threshold} \"\n",
    "            \"else to node {right}.\".format(\n",
    "                space=node_depth[i] * \"\\t\",\n",
    "                node=i,\n",
    "                left=children_left[i],\n",
    "                feature=feature[i],\n",
    "                threshold=threshold[i],\n",
    "                right=children_right[i],\n",
    "            )\n",
    "        )"
   ]
  },
  {
   "cell_type": "markdown",
   "metadata": {},
   "source": [
    "8. Using the HouseAge, AveBedrms, and AveOccup variables, build a decision tree with 2 levels (3 split points, 4 leaf nodes) based on entropy. Show the splits in an easily readable way (a printed table or dataframe may work best). One way is a table with the following columns: level (indicates which level of the tree the split occurs. You should have a 1 once and 2 twice), col (indicates the column across which the split occurs), and threshold (indicates the threshold used in the split). Keep in mind that when building this tree, each split necessitates that you find the optimal split for that data subset across all three variables. Your output should resemble the table below."
   ]
  },
  {
   "cell_type": "code",
   "execution_count": 220,
   "metadata": {},
   "outputs": [
    {
     "data": {
      "text/html": [
       "<div>\n",
       "<style scoped>\n",
       "    .dataframe tbody tr th:only-of-type {\n",
       "        vertical-align: middle;\n",
       "    }\n",
       "\n",
       "    .dataframe tbody tr th {\n",
       "        vertical-align: top;\n",
       "    }\n",
       "\n",
       "    .dataframe thead th {\n",
       "        text-align: right;\n",
       "    }\n",
       "</style>\n",
       "<table border=\"1\" class=\"dataframe\">\n",
       "  <thead>\n",
       "    <tr style=\"text-align: right;\">\n",
       "      <th></th>\n",
       "      <th>HouseAge</th>\n",
       "      <th>AveBedrms</th>\n",
       "      <th>AveOccup</th>\n",
       "    </tr>\n",
       "  </thead>\n",
       "  <tbody>\n",
       "    <tr>\n",
       "      <th>6495</th>\n",
       "      <td>32.0</td>\n",
       "      <td>0.893564</td>\n",
       "      <td>3.175743</td>\n",
       "    </tr>\n",
       "    <tr>\n",
       "      <th>17285</th>\n",
       "      <td>29.0</td>\n",
       "      <td>1.104089</td>\n",
       "      <td>2.613383</td>\n",
       "    </tr>\n",
       "    <tr>\n",
       "      <th>18580</th>\n",
       "      <td>20.0</td>\n",
       "      <td>1.044262</td>\n",
       "      <td>3.531148</td>\n",
       "    </tr>\n",
       "    <tr>\n",
       "      <th>16960</th>\n",
       "      <td>43.0</td>\n",
       "      <td>0.986523</td>\n",
       "      <td>2.652291</td>\n",
       "    </tr>\n",
       "    <tr>\n",
       "      <th>19545</th>\n",
       "      <td>39.0</td>\n",
       "      <td>1.003306</td>\n",
       "      <td>3.383471</td>\n",
       "    </tr>\n",
       "    <tr>\n",
       "      <th>...</th>\n",
       "      <td>...</td>\n",
       "      <td>...</td>\n",
       "      <td>...</td>\n",
       "    </tr>\n",
       "    <tr>\n",
       "      <th>6320</th>\n",
       "      <td>22.0</td>\n",
       "      <td>1.053648</td>\n",
       "      <td>2.803648</td>\n",
       "    </tr>\n",
       "    <tr>\n",
       "      <th>11055</th>\n",
       "      <td>16.0</td>\n",
       "      <td>1.096567</td>\n",
       "      <td>1.948498</td>\n",
       "    </tr>\n",
       "    <tr>\n",
       "      <th>10060</th>\n",
       "      <td>17.0</td>\n",
       "      <td>1.036538</td>\n",
       "      <td>2.673077</td>\n",
       "    </tr>\n",
       "    <tr>\n",
       "      <th>4495</th>\n",
       "      <td>34.0</td>\n",
       "      <td>1.076923</td>\n",
       "      <td>3.349112</td>\n",
       "    </tr>\n",
       "    <tr>\n",
       "      <th>12190</th>\n",
       "      <td>10.0</td>\n",
       "      <td>1.114583</td>\n",
       "      <td>2.937500</td>\n",
       "    </tr>\n",
       "  </tbody>\n",
       "</table>\n",
       "<p>826 rows × 3 columns</p>\n",
       "</div>"
      ],
      "text/plain": [
       "       HouseAge  AveBedrms  AveOccup\n",
       "6495       32.0   0.893564  3.175743\n",
       "17285      29.0   1.104089  2.613383\n",
       "18580      20.0   1.044262  3.531148\n",
       "16960      43.0   0.986523  2.652291\n",
       "19545      39.0   1.003306  3.383471\n",
       "...         ...        ...       ...\n",
       "6320       22.0   1.053648  2.803648\n",
       "11055      16.0   1.096567  1.948498\n",
       "10060      17.0   1.036538  2.673077\n",
       "4495       34.0   1.076923  3.349112\n",
       "12190      10.0   1.114583  2.937500\n",
       "\n",
       "[826 rows x 3 columns]"
      ]
     },
     "execution_count": 220,
     "metadata": {},
     "output_type": "execute_result"
    }
   ],
   "source": [
    "x_train_dataFrame2=x_train_dataFrame.iloc[:,[1,3,5]]\n",
    "x_train_dataFrame2\n",
    "\n",
    "x_test_dataFrame2=x_test_dataFrame.iloc[:,[1,3,5]]\n",
    "x_test_dataFrame2"
   ]
  },
  {
   "cell_type": "code",
   "execution_count": 228,
   "metadata": {},
   "outputs": [
    {
     "data": {
      "text/plain": [
       "0.887409200968523"
      ]
     },
     "execution_count": 228,
     "metadata": {},
     "output_type": "execute_result"
    },
    {
     "data": {
      "image/png": "[encoded data removed]",
      "text/plain": [
       "<Figure size 432x288 with 1 Axes>"
      ]
     },
     "metadata": {
      "needs_background": "light"
     },
     "output_type": "display_data"
    }
   ],
   "source": [
    "from sklearn.tree import DecisionTreeClassifier\n",
    "clf3 = tree.DecisionTreeClassifier(criterion=\"entropy\",min_samples_split=3,max_leaf_nodes=4)\n",
    "clf3.fit(x_train_dataFrame2, y_train)\n",
    "tree.plot_tree(clf3)\n",
    "clf3.score(x_test_dataFrame2,y_test)"
   ]
  },
  {
   "cell_type": "markdown",
   "metadata": {},
   "source": [
    "9. Visualize your splits on an X-Y plane. Set the x-axis to be AveOccup and the y-axis to be HouseAge. Plot the target variable and use straight lines to indicate the axis-aligned splits for your 2-level decision tree like we did in lecture. Make sure your visualization is understandable and comment on what you see. How do the splits look? It may help to reduce the plotting range across AveOccup to be [0, 10] and the plotting range across HouseAge to be [0, 50]. It may also help to have a color indicating highPriced with the highPriced points layered on top of the non-highPriced points (as there are fewer of them). It may also help to change the transparency of the points."
   ]
  },
  {
   "cell_type": "code",
   "execution_count": 229,
   "metadata": {},
   "outputs": [],
   "source": [
    "import matplotlib.pyplot as plt"
   ]
  },
  {
   "cell_type": "code",
   "execution_count": 422,
   "metadata": {},
   "outputs": [
    {
     "data": {
      "image/png": "[encoded data removed]",
      "text/plain": [
       "<Figure size 432x288 with 1 Axes>"
      ]
     },
     "metadata": {
      "needs_background": "light"
     },
     "output_type": "display_data"
    }
   ],
   "source": [
    "plt.scatter('AveOccup','HouseAge',c='highPriced', data=h_dataFrame,alpha=0.5)\n",
    "plt.xlim([0,10])\n",
    "plt.ylim([0,50])\n",
    "plt.xlabel('AveOccup')\n",
    "plt.ylabel('HouseAge')\n",
    "plt.title(\"Scatter Plot\") \n",
    "\n",
    "plt.show()\n"
   ]
  },
  {
   "cell_type": "markdown",
   "metadata": {},
   "source": [
    "Part 3: Making predictions"
   ]
  },
  {
   "cell_type": "markdown",
   "metadata": {},
   "source": [
    "10. Create a training/test split for your data. Assume the data is already randomized and select every 5th observation from the original dataset to be in your test data (i.e. when working in Pandas, your test dataframe should contain index 0, 5, 10, 15, ...) and all other observations in your training data. How many observations are in your training and test datasets, respectively? How does the target variable look across the two datasets?"
   ]
  },
  {
   "cell_type": "code",
   "execution_count": 451,
   "metadata": {
    "scrolled": true
   },
   "outputs": [
    {
     "data": {
      "text/html": [
       "<div>\n",
       "<style scoped>\n",
       "    .dataframe tbody tr th:only-of-type {\n",
       "        vertical-align: middle;\n",
       "    }\n",
       "\n",
       "    .dataframe tbody tr th {\n",
       "        vertical-align: top;\n",
       "    }\n",
       "\n",
       "    .dataframe thead th {\n",
       "        text-align: right;\n",
       "    }\n",
       "</style>\n",
       "<table border=\"1\" class=\"dataframe\">\n",
       "  <thead>\n",
       "    <tr style=\"text-align: right;\">\n",
       "      <th></th>\n",
       "      <th>MedInc</th>\n",
       "      <th>HouseAge</th>\n",
       "      <th>AveRooms</th>\n",
       "      <th>AveBedrms</th>\n",
       "      <th>Population</th>\n",
       "      <th>AveOccup</th>\n",
       "      <th>Latitude</th>\n",
       "      <th>Longitude</th>\n",
       "      <th>highPriced</th>\n",
       "    </tr>\n",
       "  </thead>\n",
       "  <tbody>\n",
       "    <tr>\n",
       "      <th>0</th>\n",
       "      <td>8.3252</td>\n",
       "      <td>41.0</td>\n",
       "      <td>6.984127</td>\n",
       "      <td>1.023810</td>\n",
       "      <td>322.0</td>\n",
       "      <td>2.555556</td>\n",
       "      <td>37.88</td>\n",
       "      <td>-122.23</td>\n",
       "      <td>1.0</td>\n",
       "    </tr>\n",
       "    <tr>\n",
       "      <th>5</th>\n",
       "      <td>4.0368</td>\n",
       "      <td>52.0</td>\n",
       "      <td>4.761658</td>\n",
       "      <td>1.103627</td>\n",
       "      <td>413.0</td>\n",
       "      <td>2.139896</td>\n",
       "      <td>37.85</td>\n",
       "      <td>-122.25</td>\n",
       "      <td>0.0</td>\n",
       "    </tr>\n",
       "    <tr>\n",
       "      <th>10</th>\n",
       "      <td>3.2031</td>\n",
       "      <td>52.0</td>\n",
       "      <td>5.477612</td>\n",
       "      <td>1.079602</td>\n",
       "      <td>910.0</td>\n",
       "      <td>2.263682</td>\n",
       "      <td>37.85</td>\n",
       "      <td>-122.26</td>\n",
       "      <td>0.0</td>\n",
       "    </tr>\n",
       "    <tr>\n",
       "      <th>15</th>\n",
       "      <td>2.1250</td>\n",
       "      <td>50.0</td>\n",
       "      <td>4.242424</td>\n",
       "      <td>1.071970</td>\n",
       "      <td>697.0</td>\n",
       "      <td>2.640152</td>\n",
       "      <td>37.85</td>\n",
       "      <td>-122.26</td>\n",
       "      <td>0.0</td>\n",
       "    </tr>\n",
       "    <tr>\n",
       "      <th>20</th>\n",
       "      <td>1.3578</td>\n",
       "      <td>40.0</td>\n",
       "      <td>4.524096</td>\n",
       "      <td>1.108434</td>\n",
       "      <td>409.0</td>\n",
       "      <td>2.463855</td>\n",
       "      <td>37.85</td>\n",
       "      <td>-122.27</td>\n",
       "      <td>0.0</td>\n",
       "    </tr>\n",
       "    <tr>\n",
       "      <th>...</th>\n",
       "      <td>...</td>\n",
       "      <td>...</td>\n",
       "      <td>...</td>\n",
       "      <td>...</td>\n",
       "      <td>...</td>\n",
       "      <td>...</td>\n",
       "      <td>...</td>\n",
       "      <td>...</td>\n",
       "      <td>...</td>\n",
       "    </tr>\n",
       "    <tr>\n",
       "      <th>20615</th>\n",
       "      <td>2.3598</td>\n",
       "      <td>23.0</td>\n",
       "      <td>5.461929</td>\n",
       "      <td>1.096447</td>\n",
       "      <td>724.0</td>\n",
       "      <td>3.675127</td>\n",
       "      <td>39.08</td>\n",
       "      <td>-121.54</td>\n",
       "      <td>0.0</td>\n",
       "    </tr>\n",
       "    <tr>\n",
       "      <th>20620</th>\n",
       "      <td>4.5625</td>\n",
       "      <td>40.0</td>\n",
       "      <td>4.125000</td>\n",
       "      <td>0.854167</td>\n",
       "      <td>151.0</td>\n",
       "      <td>3.145833</td>\n",
       "      <td>39.05</td>\n",
       "      <td>-121.48</td>\n",
       "      <td>0.0</td>\n",
       "    </tr>\n",
       "    <tr>\n",
       "      <th>20625</th>\n",
       "      <td>4.1250</td>\n",
       "      <td>37.0</td>\n",
       "      <td>7.285714</td>\n",
       "      <td>1.214286</td>\n",
       "      <td>29.0</td>\n",
       "      <td>2.071429</td>\n",
       "      <td>39.12</td>\n",
       "      <td>-121.52</td>\n",
       "      <td>0.0</td>\n",
       "    </tr>\n",
       "    <tr>\n",
       "      <th>20630</th>\n",
       "      <td>3.5673</td>\n",
       "      <td>11.0</td>\n",
       "      <td>5.932584</td>\n",
       "      <td>1.134831</td>\n",
       "      <td>1257.0</td>\n",
       "      <td>2.824719</td>\n",
       "      <td>39.29</td>\n",
       "      <td>-121.32</td>\n",
       "      <td>0.0</td>\n",
       "    </tr>\n",
       "    <tr>\n",
       "      <th>20635</th>\n",
       "      <td>1.5603</td>\n",
       "      <td>25.0</td>\n",
       "      <td>5.045455</td>\n",
       "      <td>1.133333</td>\n",
       "      <td>845.0</td>\n",
       "      <td>2.560606</td>\n",
       "      <td>39.48</td>\n",
       "      <td>-121.09</td>\n",
       "      <td>0.0</td>\n",
       "    </tr>\n",
       "  </tbody>\n",
       "</table>\n",
       "<p>4128 rows × 9 columns</p>\n",
       "</div>"
      ],
      "text/plain": [
       "       MedInc  HouseAge  AveRooms  AveBedrms  Population  AveOccup  Latitude  \\\n",
       "0      8.3252      41.0  6.984127   1.023810       322.0  2.555556     37.88   \n",
       "5      4.0368      52.0  4.761658   1.103627       413.0  2.139896     37.85   \n",
       "10     3.2031      52.0  5.477612   1.079602       910.0  2.263682     37.85   \n",
       "15     2.1250      50.0  4.242424   1.071970       697.0  2.640152     37.85   \n",
       "20     1.3578      40.0  4.524096   1.108434       409.0  2.463855     37.85   \n",
       "...       ...       ...       ...        ...         ...       ...       ...   \n",
       "20615  2.3598      23.0  5.461929   1.096447       724.0  3.675127     39.08   \n",
       "20620  4.5625      40.0  4.125000   0.854167       151.0  3.145833     39.05   \n",
       "20625  4.1250      37.0  7.285714   1.214286        29.0  2.071429     39.12   \n",
       "20630  3.5673      11.0  5.932584   1.134831      1257.0  2.824719     39.29   \n",
       "20635  1.5603      25.0  5.045455   1.133333       845.0  2.560606     39.48   \n",
       "\n",
       "       Longitude  highPriced  \n",
       "0        -122.23         1.0  \n",
       "5        -122.25         0.0  \n",
       "10       -122.26         0.0  \n",
       "15       -122.26         0.0  \n",
       "20       -122.27         0.0  \n",
       "...          ...         ...  \n",
       "20615    -121.54         0.0  \n",
       "20620    -121.48         0.0  \n",
       "20625    -121.52         0.0  \n",
       "20630    -121.32         0.0  \n",
       "20635    -121.09         0.0  \n",
       "\n",
       "[4128 rows x 9 columns]"
      ]
     },
     "execution_count": 451,
     "metadata": {},
     "output_type": "execute_result"
    }
   ],
   "source": [
    "h_dataFrame.iloc[::5, :]\n"
   ]
  },
  {
   "cell_type": "code",
   "execution_count": 452,
   "metadata": {},
   "outputs": [
    {
     "data": {
      "text/plain": [
       "0        1.0\n",
       "5        0.0\n",
       "10       0.0\n",
       "15       0.0\n",
       "20       0.0\n",
       "        ... \n",
       "20615    0.0\n",
       "20620    0.0\n",
       "20625    0.0\n",
       "20630    0.0\n",
       "20635    0.0\n",
       "Name: highPriced, Length: 4128, dtype: float64"
      ]
     },
     "execution_count": 452,
     "metadata": {},
     "output_type": "execute_result"
    }
   ],
   "source": [
    "h_dataFrame_predict = h_dataFrame.iloc[::5,8]\n",
    "h_dataFrame_predict"
   ]
  },
  {
   "cell_type": "code",
   "execution_count": 453,
   "metadata": {},
   "outputs": [],
   "source": [
    "from sklearn.model_selection import train_test_split\n",
    "x=df_data.iloc[::5, :]\n",
    "y=h_dataFrame_predict\n",
    "\n",
    "x_train, x_test,y_train, y_test= train_test_split(x,y,test_size=0.2,random_state=13579)\n"
   ]
  },
  {
   "cell_type": "markdown",
   "metadata": {},
   "source": [
    "If I use train and test_size=0.2, for train dataset,it contains 3302 rows. For test dataset, it contains 826 rows. For the target dataset-highPriced, it also contains 3302 rows for train dataset. For the test dataset-highPriced, it also contains  826rows for tesr dataset. \n"
   ]
  },
  {
   "cell_type": "markdown",
   "metadata": {},
   "source": [
    "11. Use sklearn’s DecisionTreeClassifier to create a decision tree that is trained on the training data with only the MedInc variable. Train it on your training dataset and make predictions for your test dataset. How do the predictions from this classifier fare? Discuss the accuracy of the classifier as well as performance across other metrics."
   ]
  },
  {
   "cell_type": "code",
   "execution_count": 454,
   "metadata": {},
   "outputs": [
    {
     "data": {
      "text/html": [
       "<div>\n",
       "<style scoped>\n",
       "    .dataframe tbody tr th:only-of-type {\n",
       "        vertical-align: middle;\n",
       "    }\n",
       "\n",
       "    .dataframe tbody tr th {\n",
       "        vertical-align: top;\n",
       "    }\n",
       "\n",
       "    .dataframe thead th {\n",
       "        text-align: right;\n",
       "    }\n",
       "</style>\n",
       "<table border=\"1\" class=\"dataframe\">\n",
       "  <thead>\n",
       "    <tr style=\"text-align: right;\">\n",
       "      <th></th>\n",
       "      <th>MedInc</th>\n",
       "    </tr>\n",
       "  </thead>\n",
       "  <tbody>\n",
       "    <tr>\n",
       "      <th>14935</th>\n",
       "      <td>4.9792</td>\n",
       "    </tr>\n",
       "    <tr>\n",
       "      <th>1200</th>\n",
       "      <td>1.9100</td>\n",
       "    </tr>\n",
       "    <tr>\n",
       "      <th>3045</th>\n",
       "      <td>3.2279</td>\n",
       "    </tr>\n",
       "    <tr>\n",
       "      <th>5740</th>\n",
       "      <td>4.9135</td>\n",
       "    </tr>\n",
       "    <tr>\n",
       "      <th>20460</th>\n",
       "      <td>6.6073</td>\n",
       "    </tr>\n",
       "    <tr>\n",
       "      <th>...</th>\n",
       "      <td>...</td>\n",
       "    </tr>\n",
       "    <tr>\n",
       "      <th>4910</th>\n",
       "      <td>1.8652</td>\n",
       "    </tr>\n",
       "    <tr>\n",
       "      <th>2335</th>\n",
       "      <td>3.1814</td>\n",
       "    </tr>\n",
       "    <tr>\n",
       "      <th>4955</th>\n",
       "      <td>2.5263</td>\n",
       "    </tr>\n",
       "    <tr>\n",
       "      <th>13790</th>\n",
       "      <td>3.4695</td>\n",
       "    </tr>\n",
       "    <tr>\n",
       "      <th>15480</th>\n",
       "      <td>3.4833</td>\n",
       "    </tr>\n",
       "  </tbody>\n",
       "</table>\n",
       "<p>3302 rows × 1 columns</p>\n",
       "</div>"
      ],
      "text/plain": [
       "       MedInc\n",
       "14935  4.9792\n",
       "1200   1.9100\n",
       "3045   3.2279\n",
       "5740   4.9135\n",
       "20460  6.6073\n",
       "...       ...\n",
       "4910   1.8652\n",
       "2335   3.1814\n",
       "4955   2.5263\n",
       "13790  3.4695\n",
       "15480  3.4833\n",
       "\n",
       "[3302 rows x 1 columns]"
      ]
     },
     "execution_count": 454,
     "metadata": {},
     "output_type": "execute_result"
    }
   ],
   "source": [
    "from sklearn.tree import DecisionTreeClassifier\n",
    "\n",
    "x_train1=x_train.iloc[:, 0]\n",
    "x_train1\n",
    "x_test1=x_test.iloc[:, 0]\n",
    "x_test1\n",
    "\n",
    "x_train1_dataFrame=pd.DataFrame(x_train1, columns=['MedInc'])\n",
    "x_test1_dataFrame=pd.DataFrame(x_test1, columns=['MedInc'])\n",
    "x_train1_dataFrame"
   ]
  },
  {
   "cell_type": "code",
   "execution_count": 462,
   "metadata": {},
   "outputs": [
    {
     "data": {
      "image/png": "[encoded data removed]",
      "text/plain": [
       "<Figure size 432x288 with 1 Axes>"
      ]
     },
     "metadata": {
      "needs_background": "light"
     },
     "output_type": "display_data"
    }
   ],
   "source": [
    "clf = tree.DecisionTreeClassifier(max_depth=2)\n",
    "clf.fit(x_train1_dataFrame, y_train)\n",
    "tree.plot_tree(clf)\n",
    "predict=clf.predict(x_test1_dataFrame)"
   ]
  },
  {
   "cell_type": "code",
   "execution_count": 464,
   "metadata": {
    "scrolled": true
   },
   "outputs": [
    {
     "name": "stdout",
     "output_type": "stream",
     "text": [
      "Accuracy:               precision    recall  f1-score   support\n",
      "\n",
      "         0.0       0.93      0.98      0.96       733\n",
      "         1.0       0.73      0.46      0.57        93\n",
      "\n",
      "    accuracy                           0.92       826\n",
      "   macro avg       0.83      0.72      0.76       826\n",
      "weighted avg       0.91      0.92      0.91       826\n",
      "\n"
     ]
    },
    {
     "data": {
      "text/plain": [
       "0.9200968523002422"
      ]
     },
     "execution_count": 464,
     "metadata": {},
     "output_type": "execute_result"
    }
   ],
   "source": [
    "from sklearn.metrics import classification_report\n",
    "print('Accuracy:',classification_report(y_test, predict))\n",
    "clf.score(x_test1_dataFrame,y_test)    "
   ]
  },
  {
   "cell_type": "markdown",
   "metadata": {},
   "source": [
    "When the training dataset with only the MedInc variable is discussed, the accurancy is 0.9200968523002422."
   ]
  },
  {
   "cell_type": "markdown",
   "metadata": {},
   "source": [
    "Discuss the accuracy of the classifier as well as performance across other metrics：\n",
    "For the macro avg, it means the average precision of other non-calculted variables such as 0.0 and 1.0, it is (0.96+0.57)/2=0.76.\n"
   ]
  },
  {
   "cell_type": "markdown",
   "metadata": {},
   "source": [
    "When the training dataset contains other variables is discussed, the accurancy is 0.9200968523002422. "
   ]
  },
  {
   "cell_type": "markdown",
   "metadata": {},
   "source": [
    "12. Use sklearn’s BaggingClassifier to create a bagging classifier whose base is a Deci- sionTreeClassifier with 2 levels, uses entropy as the split criterion, and is trained with only the MedInc variable. Train it on your training dataset and make predictions for your test dataset. How does this bagging classifier perform compared to the decision tree you created in question 11?"
   ]
  },
  {
   "cell_type": "code",
   "execution_count": 458,
   "metadata": {},
   "outputs": [],
   "source": [
    "from sklearn.ensemble import BaggingClassifier\n",
    "from sklearn.datasets import make_classification"
   ]
  },
  {
   "cell_type": "code",
   "execution_count": 459,
   "metadata": {},
   "outputs": [],
   "source": [
    "dtc = DecisionTreeClassifier(criterion=\"entropy\")\n",
    "bag_model=BaggingClassifier(base_estimator=dtc, n_estimators=100, bootstrap=True)\n",
    "bag_model=bag_model.fit(x_train1_dataFrame, y_train)"
   ]
  },
  {
   "cell_type": "code",
   "execution_count": 470,
   "metadata": {
    "scrolled": true
   },
   "outputs": [
    {
     "name": "stdout",
     "output_type": "stream",
     "text": [
      "0.864406779661017\n"
     ]
    }
   ],
   "source": [
    "ytest_pred=bag_model.predict(x_test1_dataFrame)\n",
    "print(bag_model.score(x_test1_dataFrame,y_test))"
   ]
  },
  {
   "cell_type": "markdown",
   "metadata": {},
   "source": [
    "This BaggingClassifier has a worser performance of the decision tree I created in question 11."
   ]
  },
  {
   "cell_type": "markdown",
   "metadata": {},
   "source": [
    "13. Use sklearn’s RandomForestClassifier to create a random forest classifier whose base is a decision tree with 2 levels, uses entropy as the split criterion, and is trained with only the MedInc variable. Train it on your training dataset and make predictions for your test dataset. How does this random forest classifier perform compared to the classifiers you created in questions 11 and 12? Would you expect the performance to be vastly different than that of the bagging classifier?"
   ]
  },
  {
   "cell_type": "code",
   "execution_count": 180,
   "metadata": {},
   "outputs": [],
   "source": [
    "from sklearn.ensemble import RandomForestClassifier\n",
    "from sklearn.datasets import make_classification"
   ]
  },
  {
   "cell_type": "code",
   "execution_count": 182,
   "metadata": {},
   "outputs": [],
   "source": [
    "dtc1 = DecisionTreeClassifier(criterion=\"entropy\")\n",
    "RandomForest_model=RandomForestClassifier(max_depth=2, random_state=0)\n",
    "RandomForest_model=RandomForest_model.fit(x_train1_dataFrame, y_train)"
   ]
  },
  {
   "cell_type": "code",
   "execution_count": 183,
   "metadata": {
    "scrolled": true
   },
   "outputs": [
    {
     "name": "stdout",
     "output_type": "stream",
     "text": [
      "0.9200968523002422\n"
     ]
    }
   ],
   "source": [
    "ytest_pred=RandomForest_model.predict(x_test1_dataFrame)\n",
    "print(RandomForest_model.score(x_test1_dataFrame,y_test))"
   ]
  },
  {
   "cell_type": "markdown",
   "metadata": {},
   "source": [
    "This RandomForestClassifier has the same performance of the decision tree with that I created in question 11. Besides, it has a better performacne of the decision tree with that I created in question 12."
   ]
  },
  {
   "cell_type": "markdown",
   "metadata": {},
   "source": [
    "14. Train a DecisionTreeClassifier, a BaggingClassifier, and a RandomForestClassifier using all features in the data except PRICE and highPriced. Again use entropy as a split criterion and 2 levels for the trees Train it on your training dataset and make predictions for your test dataset. How do these classifiers perform compared to each other? How do they perform compared to the classifiers you built in questions 11, 12, and 13? What can you say about how the random forest classifier performs in this instance?"
   ]
  },
  {
   "cell_type": "code",
   "execution_count": 408,
   "metadata": {},
   "outputs": [
    {
     "data": {
      "text/plain": [
       "0.9200968523002422"
      ]
     },
     "execution_count": 408,
     "metadata": {},
     "output_type": "execute_result"
    },
    {
     "data": {
      "image/png": "[encoded data removed]",
      "text/plain": [
       "<Figure size 432x288 with 1 Axes>"
      ]
     },
     "metadata": {
      "needs_background": "light"
     },
     "output_type": "display_data"
    }
   ],
   "source": [
    "from sklearn.tree import DecisionTreeClassifier\n",
    "clf = tree.DecisionTreeClassifier(max_depth=2)\n",
    "clf.fit(x_train_dataFrame, y_train)\n",
    "tree.plot_tree(clf)\n",
    "clf.score(x_test_dataFrame,y_test)"
   ]
  },
  {
   "cell_type": "code",
   "execution_count": 185,
   "metadata": {},
   "outputs": [],
   "source": [
    "from sklearn.ensemble import BaggingClassifier\n",
    "from sklearn.datasets import make_classification\n"
   ]
  },
  {
   "cell_type": "code",
   "execution_count": 186,
   "metadata": {},
   "outputs": [
    {
     "name": "stdout",
     "output_type": "stream",
     "text": [
      "0.9443099273607748\n"
     ]
    }
   ],
   "source": [
    "dtc = DecisionTreeClassifier(criterion=\"entropy\")\n",
    "bag_model=BaggingClassifier(base_estimator=dtc, n_estimators=100, bootstrap=True)\n",
    "bag_model=bag_model.fit(x_train_dataFrame, y_train)\n",
    "\n",
    "ytest_pred=bag_model.predict(x_test_dataFrame)\n",
    "print(bag_model.score(x_test_dataFrame,y_test))"
   ]
  },
  {
   "cell_type": "code",
   "execution_count": null,
   "metadata": {},
   "outputs": [],
   "source": [
    "from sklearn.ensemble import RandomForestClassifier\n",
    "from sklearn.datasets import make_classification"
   ]
  },
  {
   "cell_type": "code",
   "execution_count": 188,
   "metadata": {},
   "outputs": [
    {
     "name": "stdout",
     "output_type": "stream",
     "text": [
      "0.9092009685230025\n"
     ]
    }
   ],
   "source": [
    "dtc1 = DecisionTreeClassifier(criterion=\"entropy\")\n",
    "RandomForest_model=RandomForestClassifier(max_depth=2, random_state=0)\n",
    "RandomForest_model=RandomForest_model.fit(x_train_dataFrame, y_train)\n",
    "\n",
    "ytest_pred=RandomForest_model.predict(x_test_dataFrame)\n",
    "print(RandomForest_model.score(x_test_dataFrame,y_test))"
   ]
  },
  {
   "cell_type": "markdown",
   "metadata": {},
   "source": [
    "Among these classifiers, the second one, baggingclassifier has the highest accurancy 0.944309.\n",
    "Compared to classifiers I built in questions 11, 12, and 13, all features training model in 14 has a better performance. "
   ]
  },
  {
   "cell_type": "markdown",
   "metadata": {},
   "source": [
    "I would say that random forest classifier performs the worst among those classification methods. "
   ]
  },
  {
   "cell_type": "code",
   "execution_count": null,
   "metadata": {},
   "outputs": [],
   "source": []
  }
 ],
 "metadata": {
  "kernelspec": {
   "display_name": "Python 3",
   "language": "python",
   "name": "python3"
  },
  "language_info": {
   "codemirror_mode": {
    "name": "ipython",
    "version": 3
   },
   "file_extension": ".py",
   "mimetype": "text/x-python",
   "name": "python",
   "nbconvert_exporter": "python",
   "pygments_lexer": "ipython3",
   "version": "3.8.3"
  }
 },
 "nbformat": 4,
 "nbformat_minor": 4
}
